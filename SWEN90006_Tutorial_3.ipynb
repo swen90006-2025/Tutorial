{
  "cells": [
    {
      "cell_type": "markdown",
      "metadata": {
        "colab_type": "text",
        "id": "view-in-github"
      },
      "source": [
        "<a href=\"https://colab.research.google.com/github/swen90006-2024/Tutorial/blob/main/SWEN90006_Tutorial_4.ipynb\" target=\"_parent\"><img src=\"https://colab.research.google.com/assets/colab-badge.svg\" alt=\"Open In Colab\"/></a>"
      ]
    },
    {
      "cell_type": "markdown",
      "id": "64f8c7b9",
      "metadata": {
        "id": "64f8c7b9"
      },
      "source": [
        "# SWEN90006 Tutorial 4"
      ]
    },
    {
      "cell_type": "markdown",
      "id": "5d778b91",
      "metadata": {
        "id": "5d778b91"
      },
      "source": [
        "## Introduction\n",
        "The purpose of this tutorial is for you to gain a deeper understanding\n",
        "of control- and data-flow techniques, and to compare these to input\n",
        "partitioning techniques."
      ]
    },
    {
      "cell_type": "markdown",
      "id": "f486e92f",
      "metadata": {
        "id": "f486e92f"
      },
      "source": [
        "### Prepare the Java Kernel\n",
        "Since Java is not natively supported by Colab, we need to run the following code to enable Java kernel on Colab.\n",
        "\n",
        "1. Run the cell bellow (click it and press Shift+Enter),\n",
        "2. Change the kernel to java_use (Runtime -> Change Runtime Type -> select **\"java_use\"** -> Save)\n",
        "3. Try and run the following cells. The java kernel is ready if the you can load the JUnit library in the following cell. \n",
        "\n",
        "### Trouble shooting\n",
        "  * There are two Java runtimes having similar names that you can select in step 2. If you accidentally select **java** instead of **java_use**, Colab will enter an indefinite loop, show **connecting**, and the bottom bar has a message saying \"Connecting to **java_tcp** Google Compute Engine backend\", you should delete the runtime (Runtime -> Disconnect and Delete Runtime), and run step 1 again. \n",
        "    * The working runtime has a log message saying it is **connecting to java Google Compute Enginge Backend**"
      ]
    },
    {
      "cell_type": "code",
      "execution_count": null,
      "id": "5b292a83",
      "metadata": {
        "id": "5b292a83",
        "vscode": {
          "languageId": "java"
        }
      },
      "outputs": [],
      "source": [
        "%%sh\n",
        "# Install java kernel\n",
        "wget -q https://github.com/SpencerPark/IJava/releases/download/v1.3.0/ijava-1.3.0.zip \n",
        "unzip -q ijava-1.3.0.zip \n",
        "python install.py\n",
        "\n",
        "# Install proxy for the java kernel\n",
        "wget -qO- https://gist.github.com/wenta0g/67289a9b2e54b8128109abb3aff2194b/archive/0707f5d61d156ce2830505679994b0f1a606589b.tar.gz | tar xvz --strip-components=1\n",
        "python install_ipc_proxy_kernel.py --kernel=java --implementation=ipc_proxy_kernel.py"
      ]
    },
    {
      "cell_type": "code",
      "execution_count": 1,
      "id": "8365ad18",
      "metadata": {
        "id": "8365ad18",
        "vscode": {
          "languageId": "java"
        }
      },
      "outputs": [],
      "source": [
        "%%loadFromPOM\n",
        "\n",
        "<dependency>\n",
        "  <groupId>junit</groupId>\n",
        "  <artifactId>junit</artifactId>\n",
        "  <version>4.13.2</version>\n",
        "</dependency>"
      ]
    },
    {
      "cell_type": "markdown",
      "id": "89001280",
      "metadata": {},
      "source": [
        "# Part 1 Control Flow Criteria\n",
        "\n",
        "White-box testing provides more information to the tester than black box testing. One special case is when the requirements is not correctly stated to perform Equivalence Partitioning, or a simple input leads to very complex system behaviour where a short requirements is not sufficient to describe all possible expected outcomes. \n",
        "\n",
        "## Working With the Program - Control flow analysis\n",
        "\n",
        "In the first part of the tutorial, we provided a code snippet simulating image transformations done in the LibPNG library. \n",
        "\n",
        "LibPNG supports a list of image transformations when reading and writing a given image, for example, converting rgb images to gray or creating or deleting color channels. You do not need to know what these transformation means. Suppose in the LibPNG library, a 8-bit integer called `transformations` is used to represent the transformation to be performed. Four transformation will be performed. The condition to perform each condition is to check whether some part of the transformation flag is following certain patterns. For example, to perform transformation \"second\", the bit at index 1 and 2 must be set to 1. \n",
        "\n",
        "The definition of the \"nth bit\" is as follows, we start counting from the Least Significant Bit:\n",
        "\n",
        "`7th bit -> 00000010 <- 0th bit` ; in this example, we say the **1st bit is set to 1**, the function `isSet(n)` is only *true* when `n = 1`. \n",
        "\n",
        "For simplisity, there's no bit that contributes to multiple transformations. "
      ]
    },
    {
      "cell_type": "code",
      "execution_count": 2,
      "id": "fc00a63f",
      "metadata": {
        "vscode": {
          "languageId": "java"
        }
      },
      "outputs": [],
      "source": [
        "import java.util.ArrayList;\n",
        "import java.util.List;\n",
        "\n",
        "public class MyClass {\n",
        "    // Fields\n",
        "    private int myField;\n",
        "    private List<String> transformations = new ArrayList<>();\n",
        "    \n",
        "    // Constructor\n",
        "    public MyClass(String binary) {\n",
        "        this.myField = parseBinaryString(binary);\n",
        "    }\n",
        "\n",
        "    // reject if the binary string is not 8 bits, or it contains non-binary characters\n",
        "    // parse the binary string to an integer\n",
        "    public int parseBinaryString(String binary){\n",
        "\n",
        "        if (binary.length() != 8 || !binary.matches(\"[01]+\")) {\n",
        "            //System.out.println(\"Invalid binary string\");\n",
        "            throw new IllegalArgumentException(\"must be a string of 8 chars, each char is either 0 or 1\");\n",
        "        }\n",
        "\n",
        "        int decimal = Integer.parseInt(binary, 2);\n",
        "        return decimal;\n",
        "\n",
        "    }\n",
        "    // Check if the n-th bit is 1\n",
        "    public boolean isSet(int n) {\n",
        "        return (myField & (1 << n)) != 0;\n",
        "    }\n",
        "\n",
        "    // Print the list of transformation to be performed\n",
        "    public void PNG_initialize_transformation() {\n",
        "        // Add more transformations as needed\n",
        "\n",
        "        // The first transformation is set when the 0th bit is set\n",
        "        if (isSet(0)) {\n",
        "            transformations.add(\"First\");\n",
        "        }\n",
        "        // The second transformation is set when both the 1st and 2nd bits are set \n",
        "        if (isSet(1) && isSet(2)) {\n",
        "            transformations.add(\"Second\");\n",
        "        }\n",
        "\n",
        "        // The third transformation is set when the 3rd bit is set and either the 4th or 5th bit is set\n",
        "        if (isSet(3) && (isSet(4) || isSet(5))) {\n",
        "            transformations.add(\"Third\");\n",
        "        }\n",
        "\n",
        "        // The fourth transformation is set when the 6th bit is not set or the 7th bit is set\n",
        "        if (!isSet(6) || isSet(7)) {\n",
        "            transformations.add(\"Fourth\");\n",
        "        }\n",
        "    }\n",
        "    // Print out the list of transformations to be performed\n",
        "    public void printTransformations() {\n",
        "        System.out.println(\"Transformations to perform: \" + transformations);\n",
        "    }\n",
        "}\n"
      ]
    },
    {
      "cell_type": "code",
      "execution_count": 6,
      "id": "b1f8551a",
      "metadata": {
        "vscode": {
          "languageId": "java"
        }
      },
      "outputs": [
        {
          "name": "stdout",
          "output_type": "stream",
          "text": [
            "Transformations to perform: [Second, Fourth]\n"
          ]
        }
      ],
      "source": [
        "// Please provide a string having at most 8 characters, and only 0s and 1s\n",
        "// Other input will be rejected\n",
        "String binary = \"00010110\"; \n",
        "\n",
        "MyClass myclass = new MyClass(binary);\n",
        "\n",
        "// check which transformations to perform due to some combinations of flags\n",
        "myclass.PNG_initialize_transformation();\n",
        "\n",
        "// print out the transformations to be performed\n",
        "myclass.printTransformations();\n"
      ]
    },
    {
      "cell_type": "markdown",
      "id": "4b814bea",
      "metadata": {},
      "source": [
        "## Your Task\n",
        "\n",
        "We will work on the different coverage criteria, looking at the `PNG_initialize_transformation` function. \n",
        "\n",
        "\n",
        "### Task 1:\n",
        "Draw the control-flow graph for the `PNG_initialize_transformation` function. You may break the function up into basic blocks to simplify your CFG.\n",
        "\n",
        "Recall that a basic block is a continuous sequence of statements where control flows from one statement to the next, a single point of entry, a single point of exit and no branches or loops.\n",
        "\n",
        "### Task 2: \n",
        "\n",
        " For the given set of test cases, calculate the `branch coverage` score, using the given template (You only need to fill in blanks in the table and the coverage score). If your set of test cases does not achieve 100% `branch coverage`, add some test cases that achieves `branch coverage`. \n",
        "\n",
        "**Hint:** is making a branch `true` equivalent to performing the corresponding transformation?  \n",
        "\n",
        "\n",
        "Set of test cases:\n",
        "- `binary = \"00000111\"`\n",
        "- `binary = \"10101010\"`\n",
        "- `binary = \"11110000\"`\n",
        "\n",
        "| Branch          | Branch 1 | Branch 1  | Branch 2 | Branch 2 | Branch 3 | Branch 3 | Branch 4 | Branch 4 |\n",
        "|-----------------|----------|-----------|----------|----------|----------|----------|----------|----------|\n",
        "| Test objectives | True     | False     | True     | False    | True     | False    | True     | False    |\n",
        "| 00000111        |        |           |          |          |          |          |          |          |\n",
        "| 10101010        |          |           |          |         |         |          |         |          |\n",
        "| 11110000        |          |           |          |         |          |         |         |          |\n",
        " \n",
        "$coverage\\_score = \\frac{objectives\\_achieved}{total\\_objectives} $\n",
        "\n",
        "\n",
        "### Task 3:\n",
        "\n",
        "Design a set of test cases that achieves `condition coverage`. \n",
        "\n",
        "Note: we do not consider code optimizations during compilations. The implication is that for a branch like `if (a and b)`, an optimized code may not check `b` given `a` is false. But we will **always check both `a` and `b`**. \n",
        "\n",
        "\n",
        "### Task 4:\n",
        "\n",
        "Design a set of test cases that achieves `decision/condition coverage`.\n"
      ]
    }
  ],
  "metadata": {
    "colab": {
      "include_colab_link": true,
      "name": "SWEN90006_Tutorial_04.ipynb",
      "provenance": []
    },
    "kernelspec": {
      "display_name": "Java",
      "language": "java",
      "name": "java"
    },
    "language_info": {
      "codemirror_mode": "java",
      "file_extension": ".jshell",
      "mimetype": "text/x-java-source",
      "name": "Java",
      "pygments_lexer": "java",
      "version": "11.0.15.1+2-LTS-10"
    }
  },
  "nbformat": 4,
  "nbformat_minor": 5
}
